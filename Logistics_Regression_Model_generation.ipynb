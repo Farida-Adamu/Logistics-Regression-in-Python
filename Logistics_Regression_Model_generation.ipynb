{
  "nbformat": 4,
  "nbformat_minor": 0,
  "metadata": {
    "colab": {
      "provenance": []
    },
    "kernelspec": {
      "name": "python3",
      "display_name": "Python 3"
    },
    "language_info": {
      "name": "python"
    }
  },
  "cells": [
    {
      "cell_type": "code",
      "source": [
        "import pandas as pd\n",
        "import numpy as np"
      ],
      "metadata": {
        "id": "FR_jqAIHr2wd"
      },
      "execution_count": null,
      "outputs": []
    },
    {
      "cell_type": "code",
      "execution_count": null,
      "metadata": {
        "id": "VRrvuIItrG5C"
      },
      "outputs": [],
      "source": [
        "#from google.colab import drive\n",
        "#drive.mount('/content/drive')"
      ]
    },
    {
      "cell_type": "code",
      "source": [
        "path = \"/content/drive/MyDrive/Data/msds_view.csv\"\n",
        "data = pd.read_csv(path, low_memory=False)"
      ],
      "metadata": {
        "id": "ZrlIYjJ-v2qP"
      },
      "execution_count": null,
      "outputs": []
    },
    {
      "cell_type": "code",
      "source": [
        "df = data[data['COHORT_GRADUATION_YEAR'] != 2024]"
      ],
      "metadata": {
        "id": "_-83Tkc8rwzO"
      },
      "execution_count": null,
      "outputs": []
    },
    {
      "cell_type": "code",
      "source": [
        "data.head()"
      ],
      "metadata": {
        "id": "CkT_dhTpwVr6",
        "outputId": "455f3c88-825a-449f-89ee-9a4e05512a85",
        "colab": {
          "base_uri": "https://localhost:8080/",
          "height": 355
        }
      },
      "execution_count": null,
      "outputs": [
        {
          "output_type": "execute_result",
          "data": {
            "text/plain": [
              "  GLOBAL_REGION    COUNTRY    INCOME_TIER          PROGRAM_INDUSTRY  \\\n",
              "0         SAMEA      India  Middle Income  Customer Service & Sales   \n",
              "1        Europe      Italy    High Income  Customer Service & Sales   \n",
              "2          APAC  Australia    High Income                      Tech   \n",
              "3        Europe      Italy    High Income                      Tech   \n",
              "4         SAMEA      Kenya  Middle Income                      Tech   \n",
              "\n",
              "                 PROFESSION PROGRAM_TECH_OR_NOT COHORT_GRADUATION_DATE  \\\n",
              "0    Retail sales associate  Non tech developer             28/03/2023   \n",
              "1    Retail sales associate  Non tech developer             10/03/2023   \n",
              "2      Salesforce Developer      Tech developer             25/03/2022   \n",
              "3      Salesforce Developer      Tech developer             25/03/2022   \n",
              "4  Digital Customer Support  Non tech developer             25/02/2022   \n",
              "\n",
              "   COHORT_GRADUATION_YEAR   COVID_ERA DAYS_SINCE_GRADUATION  ...  \\\n",
              "0                    2023  Post COVID                  380   ...   \n",
              "1                    2023  Post COVID                  398   ...   \n",
              "2                    2022       COVID                  748   ...   \n",
              "3                    2022       COVID                  748   ...   \n",
              "4                    2022       COVID                  776   ...   \n",
              "\n",
              "  IS_NEET_PRE_GEN FINANCIAL_SITUATION_PRE_GEN CANNOT_MEET_DAILY_NEEDS_PRE_GEN  \\\n",
              "0             1.0                         NaN                             NaN   \n",
              "1             0.0           Prefer not to say                             0.0   \n",
              "2             0.0       Can cover daily needs                             0.0   \n",
              "3             1.0           Prefer not to say                             0.0   \n",
              "4             1.0    Cannot cover daily needs                             1.0   \n",
              "\n",
              "   CAN_SAVE_PRE_GEN LEARNER_SPECIAL_NEEDS HAS_SPECIAL_NEEDS  \\\n",
              "0               NaN                   NaN               NaN   \n",
              "1               0.0                   Yes               1.0   \n",
              "2               0.0                   NaN               NaN   \n",
              "3               0.0                    No               0.0   \n",
              "4               0.0                   NaN               NaN   \n",
              "\n",
              "   DEMOGRAPHIC_BARRIERS_SCORE  DEMOGRAPHIC_BARRIERS_NULLS  \\\n",
              "0                         4.0                         2.0   \n",
              "1                         1.0                         1.0   \n",
              "2                         3.0                         1.0   \n",
              "3                         0.0                         0.0   \n",
              "4                         4.0                         3.0   \n",
              "\n",
              "  EMPLOYMENT_NEED_SCORE  EMPLOYMENT_NEED_NULLS  \n",
              "0                   3.0                    1.0  \n",
              "1                   3.0                    0.0  \n",
              "2                   4.0                    1.0  \n",
              "3                   4.0                    0.0  \n",
              "4                   0.0                    5.0  \n",
              "\n",
              "[5 rows x 76 columns]"
            ],
            "text/html": [
              "\n",
              "  <div id=\"df-68e730f8-2160-48e5-a697-72f4b4fab4c6\" class=\"colab-df-container\">\n",
              "    <div>\n",
              "<style scoped>\n",
              "    .dataframe tbody tr th:only-of-type {\n",
              "        vertical-align: middle;\n",
              "    }\n",
              "\n",
              "    .dataframe tbody tr th {\n",
              "        vertical-align: top;\n",
              "    }\n",
              "\n",
              "    .dataframe thead th {\n",
              "        text-align: right;\n",
              "    }\n",
              "</style>\n",
              "<table border=\"1\" class=\"dataframe\">\n",
              "  <thead>\n",
              "    <tr style=\"text-align: right;\">\n",
              "      <th></th>\n",
              "      <th>GLOBAL_REGION</th>\n",
              "      <th>COUNTRY</th>\n",
              "      <th>INCOME_TIER</th>\n",
              "      <th>PROGRAM_INDUSTRY</th>\n",
              "      <th>PROFESSION</th>\n",
              "      <th>PROGRAM_TECH_OR_NOT</th>\n",
              "      <th>COHORT_GRADUATION_DATE</th>\n",
              "      <th>COHORT_GRADUATION_YEAR</th>\n",
              "      <th>COVID_ERA</th>\n",
              "      <th>DAYS_SINCE_GRADUATION</th>\n",
              "      <th>...</th>\n",
              "      <th>IS_NEET_PRE_GEN</th>\n",
              "      <th>FINANCIAL_SITUATION_PRE_GEN</th>\n",
              "      <th>CANNOT_MEET_DAILY_NEEDS_PRE_GEN</th>\n",
              "      <th>CAN_SAVE_PRE_GEN</th>\n",
              "      <th>LEARNER_SPECIAL_NEEDS</th>\n",
              "      <th>HAS_SPECIAL_NEEDS</th>\n",
              "      <th>DEMOGRAPHIC_BARRIERS_SCORE</th>\n",
              "      <th>DEMOGRAPHIC_BARRIERS_NULLS</th>\n",
              "      <th>EMPLOYMENT_NEED_SCORE</th>\n",
              "      <th>EMPLOYMENT_NEED_NULLS</th>\n",
              "    </tr>\n",
              "  </thead>\n",
              "  <tbody>\n",
              "    <tr>\n",
              "      <th>0</th>\n",
              "      <td>SAMEA</td>\n",
              "      <td>India</td>\n",
              "      <td>Middle Income</td>\n",
              "      <td>Customer Service &amp; Sales</td>\n",
              "      <td>Retail sales associate</td>\n",
              "      <td>Non tech developer</td>\n",
              "      <td>28/03/2023</td>\n",
              "      <td>2023</td>\n",
              "      <td>Post COVID</td>\n",
              "      <td>380</td>\n",
              "      <td>...</td>\n",
              "      <td>1.0</td>\n",
              "      <td>NaN</td>\n",
              "      <td>NaN</td>\n",
              "      <td>NaN</td>\n",
              "      <td>NaN</td>\n",
              "      <td>NaN</td>\n",
              "      <td>4.0</td>\n",
              "      <td>2.0</td>\n",
              "      <td>3.0</td>\n",
              "      <td>1.0</td>\n",
              "    </tr>\n",
              "    <tr>\n",
              "      <th>1</th>\n",
              "      <td>Europe</td>\n",
              "      <td>Italy</td>\n",
              "      <td>High Income</td>\n",
              "      <td>Customer Service &amp; Sales</td>\n",
              "      <td>Retail sales associate</td>\n",
              "      <td>Non tech developer</td>\n",
              "      <td>10/03/2023</td>\n",
              "      <td>2023</td>\n",
              "      <td>Post COVID</td>\n",
              "      <td>398</td>\n",
              "      <td>...</td>\n",
              "      <td>0.0</td>\n",
              "      <td>Prefer not to say</td>\n",
              "      <td>0.0</td>\n",
              "      <td>0.0</td>\n",
              "      <td>Yes</td>\n",
              "      <td>1.0</td>\n",
              "      <td>1.0</td>\n",
              "      <td>1.0</td>\n",
              "      <td>3.0</td>\n",
              "      <td>0.0</td>\n",
              "    </tr>\n",
              "    <tr>\n",
              "      <th>2</th>\n",
              "      <td>APAC</td>\n",
              "      <td>Australia</td>\n",
              "      <td>High Income</td>\n",
              "      <td>Tech</td>\n",
              "      <td>Salesforce Developer</td>\n",
              "      <td>Tech developer</td>\n",
              "      <td>25/03/2022</td>\n",
              "      <td>2022</td>\n",
              "      <td>COVID</td>\n",
              "      <td>748</td>\n",
              "      <td>...</td>\n",
              "      <td>0.0</td>\n",
              "      <td>Can cover daily needs</td>\n",
              "      <td>0.0</td>\n",
              "      <td>0.0</td>\n",
              "      <td>NaN</td>\n",
              "      <td>NaN</td>\n",
              "      <td>3.0</td>\n",
              "      <td>1.0</td>\n",
              "      <td>4.0</td>\n",
              "      <td>1.0</td>\n",
              "    </tr>\n",
              "    <tr>\n",
              "      <th>3</th>\n",
              "      <td>Europe</td>\n",
              "      <td>Italy</td>\n",
              "      <td>High Income</td>\n",
              "      <td>Tech</td>\n",
              "      <td>Salesforce Developer</td>\n",
              "      <td>Tech developer</td>\n",
              "      <td>25/03/2022</td>\n",
              "      <td>2022</td>\n",
              "      <td>COVID</td>\n",
              "      <td>748</td>\n",
              "      <td>...</td>\n",
              "      <td>1.0</td>\n",
              "      <td>Prefer not to say</td>\n",
              "      <td>0.0</td>\n",
              "      <td>0.0</td>\n",
              "      <td>No</td>\n",
              "      <td>0.0</td>\n",
              "      <td>0.0</td>\n",
              "      <td>0.0</td>\n",
              "      <td>4.0</td>\n",
              "      <td>0.0</td>\n",
              "    </tr>\n",
              "    <tr>\n",
              "      <th>4</th>\n",
              "      <td>SAMEA</td>\n",
              "      <td>Kenya</td>\n",
              "      <td>Middle Income</td>\n",
              "      <td>Tech</td>\n",
              "      <td>Digital Customer Support</td>\n",
              "      <td>Non tech developer</td>\n",
              "      <td>25/02/2022</td>\n",
              "      <td>2022</td>\n",
              "      <td>COVID</td>\n",
              "      <td>776</td>\n",
              "      <td>...</td>\n",
              "      <td>1.0</td>\n",
              "      <td>Cannot cover daily needs</td>\n",
              "      <td>1.0</td>\n",
              "      <td>0.0</td>\n",
              "      <td>NaN</td>\n",
              "      <td>NaN</td>\n",
              "      <td>4.0</td>\n",
              "      <td>3.0</td>\n",
              "      <td>0.0</td>\n",
              "      <td>5.0</td>\n",
              "    </tr>\n",
              "  </tbody>\n",
              "</table>\n",
              "<p>5 rows × 76 columns</p>\n",
              "</div>\n",
              "    <div class=\"colab-df-buttons\">\n",
              "\n",
              "  <div class=\"colab-df-container\">\n",
              "    <button class=\"colab-df-convert\" onclick=\"convertToInteractive('df-68e730f8-2160-48e5-a697-72f4b4fab4c6')\"\n",
              "            title=\"Convert this dataframe to an interactive table.\"\n",
              "            style=\"display:none;\">\n",
              "\n",
              "  <svg xmlns=\"http://www.w3.org/2000/svg\" height=\"24px\" viewBox=\"0 -960 960 960\">\n",
              "    <path d=\"M120-120v-720h720v720H120Zm60-500h600v-160H180v160Zm220 220h160v-160H400v160Zm0 220h160v-160H400v160ZM180-400h160v-160H180v160Zm440 0h160v-160H620v160ZM180-180h160v-160H180v160Zm440 0h160v-160H620v160Z\"/>\n",
              "  </svg>\n",
              "    </button>\n",
              "\n",
              "  <style>\n",
              "    .colab-df-container {\n",
              "      display:flex;\n",
              "      gap: 12px;\n",
              "    }\n",
              "\n",
              "    .colab-df-convert {\n",
              "      background-color: #E8F0FE;\n",
              "      border: none;\n",
              "      border-radius: 50%;\n",
              "      cursor: pointer;\n",
              "      display: none;\n",
              "      fill: #1967D2;\n",
              "      height: 32px;\n",
              "      padding: 0 0 0 0;\n",
              "      width: 32px;\n",
              "    }\n",
              "\n",
              "    .colab-df-convert:hover {\n",
              "      background-color: #E2EBFA;\n",
              "      box-shadow: 0px 1px 2px rgba(60, 64, 67, 0.3), 0px 1px 3px 1px rgba(60, 64, 67, 0.15);\n",
              "      fill: #174EA6;\n",
              "    }\n",
              "\n",
              "    .colab-df-buttons div {\n",
              "      margin-bottom: 4px;\n",
              "    }\n",
              "\n",
              "    [theme=dark] .colab-df-convert {\n",
              "      background-color: #3B4455;\n",
              "      fill: #D2E3FC;\n",
              "    }\n",
              "\n",
              "    [theme=dark] .colab-df-convert:hover {\n",
              "      background-color: #434B5C;\n",
              "      box-shadow: 0px 1px 3px 1px rgba(0, 0, 0, 0.15);\n",
              "      filter: drop-shadow(0px 1px 2px rgba(0, 0, 0, 0.3));\n",
              "      fill: #FFFFFF;\n",
              "    }\n",
              "  </style>\n",
              "\n",
              "    <script>\n",
              "      const buttonEl =\n",
              "        document.querySelector('#df-68e730f8-2160-48e5-a697-72f4b4fab4c6 button.colab-df-convert');\n",
              "      buttonEl.style.display =\n",
              "        google.colab.kernel.accessAllowed ? 'block' : 'none';\n",
              "\n",
              "      async function convertToInteractive(key) {\n",
              "        const element = document.querySelector('#df-68e730f8-2160-48e5-a697-72f4b4fab4c6');\n",
              "        const dataTable =\n",
              "          await google.colab.kernel.invokeFunction('convertToInteractive',\n",
              "                                                    [key], {});\n",
              "        if (!dataTable) return;\n",
              "\n",
              "        const docLinkHtml = 'Like what you see? Visit the ' +\n",
              "          '<a target=\"_blank\" href=https://colab.research.google.com/notebooks/data_table.ipynb>data table notebook</a>'\n",
              "          + ' to learn more about interactive tables.';\n",
              "        element.innerHTML = '';\n",
              "        dataTable['output_type'] = 'display_data';\n",
              "        await google.colab.output.renderOutput(dataTable, element);\n",
              "        const docLink = document.createElement('div');\n",
              "        docLink.innerHTML = docLinkHtml;\n",
              "        element.appendChild(docLink);\n",
              "      }\n",
              "    </script>\n",
              "  </div>\n",
              "\n",
              "\n",
              "<div id=\"df-daa5f1ba-f325-42eb-8412-2f4fbf662f91\">\n",
              "  <button class=\"colab-df-quickchart\" onclick=\"quickchart('df-daa5f1ba-f325-42eb-8412-2f4fbf662f91')\"\n",
              "            title=\"Suggest charts\"\n",
              "            style=\"display:none;\">\n",
              "\n",
              "<svg xmlns=\"http://www.w3.org/2000/svg\" height=\"24px\"viewBox=\"0 0 24 24\"\n",
              "     width=\"24px\">\n",
              "    <g>\n",
              "        <path d=\"M19 3H5c-1.1 0-2 .9-2 2v14c0 1.1.9 2 2 2h14c1.1 0 2-.9 2-2V5c0-1.1-.9-2-2-2zM9 17H7v-7h2v7zm4 0h-2V7h2v10zm4 0h-2v-4h2v4z\"/>\n",
              "    </g>\n",
              "</svg>\n",
              "  </button>\n",
              "\n",
              "<style>\n",
              "  .colab-df-quickchart {\n",
              "      --bg-color: #E8F0FE;\n",
              "      --fill-color: #1967D2;\n",
              "      --hover-bg-color: #E2EBFA;\n",
              "      --hover-fill-color: #174EA6;\n",
              "      --disabled-fill-color: #AAA;\n",
              "      --disabled-bg-color: #DDD;\n",
              "  }\n",
              "\n",
              "  [theme=dark] .colab-df-quickchart {\n",
              "      --bg-color: #3B4455;\n",
              "      --fill-color: #D2E3FC;\n",
              "      --hover-bg-color: #434B5C;\n",
              "      --hover-fill-color: #FFFFFF;\n",
              "      --disabled-bg-color: #3B4455;\n",
              "      --disabled-fill-color: #666;\n",
              "  }\n",
              "\n",
              "  .colab-df-quickchart {\n",
              "    background-color: var(--bg-color);\n",
              "    border: none;\n",
              "    border-radius: 50%;\n",
              "    cursor: pointer;\n",
              "    display: none;\n",
              "    fill: var(--fill-color);\n",
              "    height: 32px;\n",
              "    padding: 0;\n",
              "    width: 32px;\n",
              "  }\n",
              "\n",
              "  .colab-df-quickchart:hover {\n",
              "    background-color: var(--hover-bg-color);\n",
              "    box-shadow: 0 1px 2px rgba(60, 64, 67, 0.3), 0 1px 3px 1px rgba(60, 64, 67, 0.15);\n",
              "    fill: var(--button-hover-fill-color);\n",
              "  }\n",
              "\n",
              "  .colab-df-quickchart-complete:disabled,\n",
              "  .colab-df-quickchart-complete:disabled:hover {\n",
              "    background-color: var(--disabled-bg-color);\n",
              "    fill: var(--disabled-fill-color);\n",
              "    box-shadow: none;\n",
              "  }\n",
              "\n",
              "  .colab-df-spinner {\n",
              "    border: 2px solid var(--fill-color);\n",
              "    border-color: transparent;\n",
              "    border-bottom-color: var(--fill-color);\n",
              "    animation:\n",
              "      spin 1s steps(1) infinite;\n",
              "  }\n",
              "\n",
              "  @keyframes spin {\n",
              "    0% {\n",
              "      border-color: transparent;\n",
              "      border-bottom-color: var(--fill-color);\n",
              "      border-left-color: var(--fill-color);\n",
              "    }\n",
              "    20% {\n",
              "      border-color: transparent;\n",
              "      border-left-color: var(--fill-color);\n",
              "      border-top-color: var(--fill-color);\n",
              "    }\n",
              "    30% {\n",
              "      border-color: transparent;\n",
              "      border-left-color: var(--fill-color);\n",
              "      border-top-color: var(--fill-color);\n",
              "      border-right-color: var(--fill-color);\n",
              "    }\n",
              "    40% {\n",
              "      border-color: transparent;\n",
              "      border-right-color: var(--fill-color);\n",
              "      border-top-color: var(--fill-color);\n",
              "    }\n",
              "    60% {\n",
              "      border-color: transparent;\n",
              "      border-right-color: var(--fill-color);\n",
              "    }\n",
              "    80% {\n",
              "      border-color: transparent;\n",
              "      border-right-color: var(--fill-color);\n",
              "      border-bottom-color: var(--fill-color);\n",
              "    }\n",
              "    90% {\n",
              "      border-color: transparent;\n",
              "      border-bottom-color: var(--fill-color);\n",
              "    }\n",
              "  }\n",
              "</style>\n",
              "\n",
              "  <script>\n",
              "    async function quickchart(key) {\n",
              "      const quickchartButtonEl =\n",
              "        document.querySelector('#' + key + ' button');\n",
              "      quickchartButtonEl.disabled = true;  // To prevent multiple clicks.\n",
              "      quickchartButtonEl.classList.add('colab-df-spinner');\n",
              "      try {\n",
              "        const charts = await google.colab.kernel.invokeFunction(\n",
              "            'suggestCharts', [key], {});\n",
              "      } catch (error) {\n",
              "        console.error('Error during call to suggestCharts:', error);\n",
              "      }\n",
              "      quickchartButtonEl.classList.remove('colab-df-spinner');\n",
              "      quickchartButtonEl.classList.add('colab-df-quickchart-complete');\n",
              "    }\n",
              "    (() => {\n",
              "      let quickchartButtonEl =\n",
              "        document.querySelector('#df-daa5f1ba-f325-42eb-8412-2f4fbf662f91 button');\n",
              "      quickchartButtonEl.style.display =\n",
              "        google.colab.kernel.accessAllowed ? 'block' : 'none';\n",
              "    })();\n",
              "  </script>\n",
              "</div>\n",
              "    </div>\n",
              "  </div>\n"
            ],
            "application/vnd.google.colaboratory.intrinsic+json": {
              "type": "dataframe",
              "variable_name": "data"
            }
          },
          "metadata": {},
          "execution_count": 39
        }
      ]
    },
    {
      "cell_type": "code",
      "source": [
        "data.shape\n"
      ],
      "metadata": {
        "id": "A86kdIUnW7NY",
        "outputId": "fc587a0f-bdcd-43bf-9ca4-ed133e7f5794",
        "colab": {
          "base_uri": "https://localhost:8080/"
        }
      },
      "execution_count": null,
      "outputs": [
        {
          "output_type": "execute_result",
          "data": {
            "text/plain": [
              "(149260, 76)"
            ]
          },
          "metadata": {},
          "execution_count": 40
        }
      ]
    },
    {
      "cell_type": "code",
      "source": [
        "# filter for rows where dismissal is false\n",
        "df= data[data['IS_DISMISSED_DROPOUT'] != 1]\n",
        "\n",
        "# filter for rows where 'is graduated' is true\n",
        "df= data[data['IS_GRADUATED'] != 0]"
      ],
      "metadata": {
        "id": "AW9f4CdU9C44"
      },
      "execution_count": null,
      "outputs": []
    },
    {
      "cell_type": "code",
      "source": [
        "df.shape"
      ],
      "metadata": {
        "colab": {
          "base_uri": "https://localhost:8080/"
        },
        "id": "dUa6XNLYxA0a",
        "outputId": "7e517f66-6644-4bf0-950c-a992dc627fae"
      },
      "execution_count": null,
      "outputs": [
        {
          "output_type": "execute_result",
          "data": {
            "text/plain": [
              "(128761, 76)"
            ]
          },
          "metadata": {},
          "execution_count": 42
        }
      ]
    },
    {
      "cell_type": "code",
      "source": [
        "df.shape"
      ],
      "metadata": {
        "colab": {
          "base_uri": "https://localhost:8080/"
        },
        "id": "ppU19YLUw2W5",
        "outputId": "301a4cd8-8528-4e00-b07d-f34cb4fd621d"
      },
      "execution_count": null,
      "outputs": [
        {
          "output_type": "execute_result",
          "data": {
            "text/plain": [
              "(128761, 76)"
            ]
          },
          "metadata": {},
          "execution_count": 43
        }
      ]
    },
    {
      "cell_type": "code",
      "source": [
        "#Exclude special projects from program industry\n",
        "df = df[df['PROGRAM_INDUSTRY'] != 'Special Project']"
      ],
      "metadata": {
        "id": "AXiYmhBvKYKw"
      },
      "execution_count": null,
      "outputs": []
    },
    {
      "cell_type": "code",
      "source": [
        "df.shape"
      ],
      "metadata": {
        "colab": {
          "base_uri": "https://localhost:8080/"
        },
        "id": "_w7sopraxQ7r",
        "outputId": "75703c7a-0504-4209-9a24-4f3626bc7e93"
      },
      "execution_count": null,
      "outputs": [
        {
          "output_type": "execute_result",
          "data": {
            "text/plain": [
              "(126403, 76)"
            ]
          },
          "metadata": {},
          "execution_count": 45
        }
      ]
    },
    {
      "cell_type": "code",
      "source": [
        "# Create a new column 'India_not_india'\n",
        "df['INDIA_NOT_INDIA'] = np.where(df['COUNTRY'] == 'India', 'India', 'Not_India')"
      ],
      "metadata": {
        "id": "UdWbhm-OCjGB",
        "colab": {
          "base_uri": "https://localhost:8080/"
        },
        "outputId": "4aba5d9c-49df-411c-b2f5-e1c3178b211b"
      },
      "execution_count": null,
      "outputs": [
        {
          "output_type": "stream",
          "name": "stderr",
          "text": [
            "<ipython-input-46-44941f72d160>:2: SettingWithCopyWarning: \n",
            "A value is trying to be set on a copy of a slice from a DataFrame.\n",
            "Try using .loc[row_indexer,col_indexer] = value instead\n",
            "\n",
            "See the caveats in the documentation: https://pandas.pydata.org/pandas-docs/stable/user_guide/indexing.html#returning-a-view-versus-a-copy\n",
            "  df['INDIA_NOT_INDIA'] = np.where(df['COUNTRY'] == 'India', 'India', 'Not_India')\n"
          ]
        }
      ]
    },
    {
      "cell_type": "code",
      "source": [
        "df.shape"
      ],
      "metadata": {
        "colab": {
          "base_uri": "https://localhost:8080/"
        },
        "id": "buSQxiNaBSbQ",
        "outputId": "a8677070-a9f0-43a3-c5d1-65141a207b1d"
      },
      "execution_count": null,
      "outputs": [
        {
          "output_type": "execute_result",
          "data": {
            "text/plain": [
              "(126403, 77)"
            ]
          },
          "metadata": {},
          "execution_count": 47
        }
      ]
    },
    {
      "cell_type": "code",
      "source": [
        "df.shape\n"
      ],
      "metadata": {
        "colab": {
          "base_uri": "https://localhost:8080/"
        },
        "id": "u7cCsNRdcNyX",
        "outputId": "786c486e-e447-4ef0-f865-b7122fa2e775"
      },
      "execution_count": null,
      "outputs": [
        {
          "output_type": "execute_result",
          "data": {
            "text/plain": [
              "(126403, 77)"
            ]
          },
          "metadata": {},
          "execution_count": 48
        }
      ]
    },
    {
      "cell_type": "code",
      "source": [
        "# Replace NaN in attainment with 0\n",
        "df['ATTAINMENT_90D'] = df['ATTAINMENT_90D'].fillna(0)\n",
        "df['ATTAINMENT_180D'] = df['ATTAINMENT_180D'].fillna(0)\n"
      ],
      "metadata": {
        "id": "lJg1TrIteIyp"
      },
      "execution_count": null,
      "outputs": []
    },
    {
      "cell_type": "markdown",
      "source": [
        "## **Dimensionality Reduction for Variables**"
      ],
      "metadata": {
        "id": "Ic9A7Qb89hyf"
      }
    },
    {
      "cell_type": "code",
      "source": [
        "# Get unique values in the 'Dependants' column\n",
        "unique_dependants = df['DEPENDANTS'].unique()\n",
        "print(unique_dependants)"
      ],
      "metadata": {
        "colab": {
          "base_uri": "https://localhost:8080/"
        },
        "id": "lQjsuo0VLyIN",
        "outputId": "f29cabee-a047-47d3-c0e8-a325a44d4240"
      },
      "execution_count": null,
      "outputs": [
        {
          "output_type": "stream",
          "name": "stdout",
          "text": [
            "['1' 'Prefer not to say' '0' nan '沒有' 'Oui' 'Prefiero no contestar' '5+'\n",
            " '2' '4' '3' 'Non' '5' 'Sí' 'More than 9' 'Je préfère ne pas répondre'\n",
            " '10 or more' '不便透露' '有' 'Choose not to say' 'Prefiero no responder'\n",
            " 'Preferisco non rispondere' 'Eu não me sustento atualmente']\n"
          ]
        }
      ]
    },
    {
      "cell_type": "code",
      "source": [
        "#df0['HAS_DEPENDANTS'] = df1['DEPENDANTS'].apply(lambda x: 0 if x == 0 else 1)\n",
        "# Map values to 0 or 1\n",
        "mapping = {\n",
        "    '0': 0,\n",
        "    'Prefer not to say': 0,\n",
        "    '沒有': 0,  # Chinese for \"no\"\n",
        "    'Oui': 1,   # French for \"yes\"\n",
        "    'Prefiero no contestar': 0,  # Spanish for \"I prefer not to answer\"\n",
        "    '5+': 1,    # Assuming 5 or more dependants means there are dependants\n",
        "    '2': 1,\n",
        "    '4': 1,\n",
        "    '3': 1,\n",
        "    'Non': 0,   # French for \"no\"\n",
        "    '5': 1,\n",
        "    'Sí': 1,    # Spanish for \"yes\"\n",
        "    'More than 9': 1,\n",
        "    'Je préfère ne pas répondre': 0,  # French for \"I prefer not to answer\"\n",
        "    '10 or more': 1,\n",
        "    '不便透露': 0,  # Chinese for \"inconvenient to disclose\"\n",
        "    '有': 1,     # Chinese for \"have\"\n",
        "    'Choose not to say': 0,\n",
        "    'Prefiero no responder': 0,   # Spanish for \"I prefer not to answer\"\n",
        "    'Preferisco non rispondere': 0,  # Italian for \"I prefer not to answer\"\n",
        "    'Eu não me sustento atualmente': 0   # Portuguese for \"I am not currently supporting myself\"\n",
        "}\n",
        "\n",
        "\n",
        "# Map the values to 0 or 1 using the mapping dictionary\n",
        "df['HAS_DEPENDANTS'] = df['DEPENDANTS'].map(mapping).fillna(0).astype(int)"
      ],
      "metadata": {
        "id": "laZODxs5N_pD"
      },
      "execution_count": null,
      "outputs": []
    },
    {
      "cell_type": "code",
      "source": [
        "# Map values to categories\n",
        "mapping_work_experience = {\n",
        "    'No work experience': 'No work experience',\n",
        "    'Between 2 and 5 years': 'More than one year',\n",
        "    '0 to 1 year': 'Less than one year',\n",
        "    '1 to 2 years': 'More than one year',\n",
        "    '5 or more years': 'More than one year'\n",
        "}\n",
        "\n",
        "# Map the values to desired categories using the mapping dictionary\n",
        "df['WORK_EXPERIENCE_PREGEN'] = df['WORK_EXPERIENCE_PRE_GEN'].map(mapping_work_experience).fillna('No work experience')\n"
      ],
      "metadata": {
        "id": "cKL4mmIBPQVX"
      },
      "execution_count": null,
      "outputs": []
    },
    {
      "cell_type": "code",
      "source": [
        "# Get unique values in the 'mths pregen' column\n",
        "mth = df['MONTHS_UNEMPLOYED_PRE_GEN'].unique()\n",
        "print(mth)"
      ],
      "metadata": {
        "colab": {
          "base_uri": "https://localhost:8080/"
        },
        "id": "rA37nkN8PSxU",
        "outputId": "1be5502d-f8c3-4b8d-c1d1-c6d37d008256"
      },
      "execution_count": null,
      "outputs": [
        {
          "output_type": "stream",
          "name": "stdout",
          "text": [
            "[nan '04-Jun' '>12' '0-3' '0 to 3 months' '07-Dec' 'Da 7-12 mesi'\n",
            " 'Never Worked' 'Entre 4 y 6 meses' '4 to 6 months' '0 à 3 mois'\n",
            " '7 - 12 個月' 'Entre 0 y 3 meses' 'Da meno di 3 mesi' 'Entre 7 y 12 meses'\n",
            " '7 à 12 mois' '03-Jun' '06-Dec' '0-3 meses' 'Non sono disoccupato'\n",
            " 'Da più di 12 mesi' 'No aplica, tengo empleo'\n",
            " 'NA: I am currently employed' 'Da 4-6 mesi' '7 to 12 months'\n",
            " '12 months +' '0 - 3 個月' '6 to 12 months'\n",
            " 'No aplica, estoy estudiando y no necesito trabajar todavía' '沒有找工作'\n",
            " '多於12個月' '4 à 6 mois' '0 to 3 Months' \"Je n'ai jamais travaillé\" '超過一年'\n",
            " '1 個月' '6 -12 meses' '4 - 6 個月' 'Je ne suis pas au chômage']\n"
          ]
        }
      ]
    },
    {
      "cell_type": "code",
      "source": [
        "# Map values to desired categories\n",
        "mapping_months_unemployed = {\n",
        "    'No work experience': 'No work experience',\n",
        "    'Never Worked': 'No work experience',\n",
        "    \"Je n'ai jamais travaillé\": 'No work experience',\n",
        "    'Non ho mai lavorato': 'No work experience',\n",
        "    '沒有找工作': 'No work experience',\n",
        "    'Je ne suis pas au chômage': 'No work experience',\n",
        "    '0 to 3 months': 'Less than six months',\n",
        "    '0 à 3 mois': 'Less than six months',\n",
        "    'Entre 0 y 3 meses': 'Less than six months',\n",
        "    'Da meno di 3 mesi': 'Less than six months',\n",
        "    'No aplica, tengo empleo': 'Employed',\n",
        "    'NA: I am currently employed': 'Employed',\n",
        "    'Non sono disoccupato': 'Employed',\n",
        "    'Je ne suis pas au chômage': 'Employed',\n",
        "    'No aplica, estoy estudiando y no necesito trabajar todavía': 'Employed',\n",
        "    '4-6': 'Less than six months',\n",
        "    '4 - 6 個月': 'Less than six months',\n",
        "    'Entre 4 y 6 meses': 'Less than six months',\n",
        "    'Entre 4 e 6 meses': 'Less than six months',\n",
        "    'Entre 4 et 6 mois': 'Less than six months',\n",
        "    '4 à 6 mois': 'Less than six months',\n",
        "    '4 to 6 months': 'Less than six months',\n",
        "    '4 - 6 meses': 'Less than six months',\n",
        "    'Da 4-6 mesi': 'Less than six months',\n",
        "    '4 - 6': 'Less than six months',\n",
        "    '7-12': 'More than six months',\n",
        "    '7 - 12 個月': 'More than six months',\n",
        "    '7 - 12': 'More than six months',\n",
        "    '7 - 12 mois': 'More than six months',\n",
        "    '7 à 12 mois': 'More than six months',\n",
        "    'Entre 7 y 12 meses': 'More than six months',\n",
        "    'Da 7-12 mesi': 'More than six months',\n",
        "    '6 - 12 個月': 'More than six months',\n",
        "    '6 - 12 meses': 'More than six months',\n",
        "    '6 -12 meses': 'More than six months',\n",
        "    '6 - 12': 'More than six months',\n",
        "    '6 - 12 mois': 'More than six months',\n",
        "    '>12': 'More than 12 months',\n",
        "    'Da più di 12 mesi': 'More than 12 months',\n",
        "    '12 months +': 'More than 12 months',\n",
        "    '多於12個月': 'More than 12 months',\n",
        "    '超過一年': 'More than 12 months',\n",
        "    '超過一年': 'More than 12 months',\n",
        "    '0 - 3 個月': 'Less than six months',\n",
        "    '0 - 3 Months': 'Less than six months',\n",
        "    '0-3 meses': 'Less than six months',\n",
        "    '0-3 months': 'Less than six months',\n",
        "    '0 à 3 mois': 'Less than six months',\n",
        "    '0 à 3 mois': 'Less than six months',\n",
        "    '0 to 3 months': 'Less than six months',\n",
        "    'Entre 0 y 3 meses': 'Less than six months',\n",
        "    'Entre 0 y 3 meses': 'Less than six months',\n",
        "    'Entre 0 y 3 meses': 'Less than six months',\n",
        "    '0 to 1 year': 'Less than 12 months',\n",
        "    '1 to 2 years': 'More than 12 months',\n",
        "    '0-3 meses': 'Less than six months',\n",
        "    '3 - 6': 'More than six months',\n",
        "    '6 - 12': 'More than 12 months',\n",
        "    '1 個月': 'Less than six months',\n",
        "    'No aplica, tengo empleo': 'Employed',\n",
        "    'No aplica, estoy estudiando y no necesito trabajar todavía': 'Employed'\n",
        "}\n",
        "\n",
        "# Map the values to desired categories using the mapping dictionary\n",
        "df['MONTHS_UNEMPLOYED_PREGEN'] = df['MONTHS_UNEMPLOYED_PRE_GEN'].map(mapping_months_unemployed).fillna('No work experience')\n"
      ],
      "metadata": {
        "id": "ljqf2iFtWvcs"
      },
      "execution_count": null,
      "outputs": []
    },
    {
      "cell_type": "code",
      "source": [
        "# Get unique values in the 'Employments status' column\n",
        "mth = df['EMPLOYMENT_STATUS_PRE_GEN'].unique()\n",
        "print(mth)"
      ],
      "metadata": {
        "colab": {
          "base_uri": "https://localhost:8080/"
        },
        "id": "8k8pG5d6kzJR",
        "outputId": "3a12437e-80db-45c4-c4cd-229ca54bcb18"
      },
      "execution_count": null,
      "outputs": [
        {
          "output_type": "stream",
          "name": "stdout",
          "text": [
            "[nan 'Unemployed' 'Employed' '最近7天內我一直從事有薪工作'\n",
            " 'Non sono stato impegnato in lavori retribuiti negli ultimi 7 giorni'\n",
            " 'Non' 'Disoccupato' '最近7天內我沒有從事有薪工作' 'Sí' 'No tengo empleo'\n",
            " 'Sono stato impegnato in lavori retribuiti negli ultimi 7 giorni'\n",
            " 'Sono disoccupato'\n",
            " 'Ho lavorato in passato, ma attualmente non sto lavorando'\n",
            " 'Sto ancora studiando' 'Trabajo de tiempo parcial (<40 horas por semana)'\n",
            " 'Occupato part-time' '過去7天內我沒有從事有薪工作' 'I am in a Permanent role'\n",
            " 'Sto ancora studiando (es., scuola, università)'\n",
            " 'Ho attualmente un lavoro part-time'\n",
            " 'Tiempo parcial (menos de 40 horas a la semana)' 'Oui'\n",
            " 'I am on a Zero hours contract' 'Occupato full-time' ' 不便透露'\n",
            " 'Ho attualmente un lavoro a tempo pieno'\n",
            " 'Tiempo completo (40 horas o más a la semana)' 'Studying part-time']\n"
          ]
        }
      ]
    },
    {
      "cell_type": "code",
      "source": [
        "# Map values to categories\n",
        "mapping_employment_status = {\n",
        "    'Employed': 'Employed',\n",
        "    '最近7天內我一直從事有薪工作': 'Employed',  # Chinese for \"I have been employed in paid work in the past 7 days\"\n",
        "    'Non sono stato impegnato in lavori retribuiti negli ultimi 7 giorni': 'Unemployed',  # Italian for \"I have not been engaged in paid work in the past 7 days\"\n",
        "    'Non': 'Unemployed',  # French for \"No\"\n",
        "    'Disoccupato': 'Unemployed',  # Italian for \"Unemployed\"\n",
        "    '最近7天內我沒有從事有薪工作': 'Unemployed',  # Chinese for \"I have not been engaged in paid work in the past 7 days\"\n",
        "    'Sí': 'Employed',  # Spanish for \"Yes\"\n",
        "    'No tengo empleo': 'Unemployed',  # Spanish for \"I do not have a job\"\n",
        "    'Sono stato impegnato in lavori retribuiti negli ultimi 7 giorni': 'Employed',  # Italian for \"I have been engaged in paid work in the past 7 days\"\n",
        "    'Ho lavorato in passato, ma attualmente non sto lavorando': 'Unemployed',  # Italian for \"I have worked in the past, but currently I am not working\"\n",
        "    'Sto ancora studiando': 'Unemployed',  # Italian for \"I am still studying\"\n",
        "    'Trabajo de tiempo parcial (<40 horas por semana)': 'Employed',  # Spanish for \"Part-time work (<40 hours per week)\"\n",
        "    'Occupato part-time': 'Employed',  # Italian for \"Part-time employed\"\n",
        "    '過去7天內我沒有從事有薪工作': 'Unemployed',  # Chinese for \"I have not been engaged in paid work in the past 7 days\"\n",
        "    'I am in a Permanent role': 'Employed',\n",
        "    'Sto ancora studiando (es., scuola, università)': 'Unemployed',  # Italian for \"I am still studying (e.g., school, university)\"\n",
        "    'Ho attualmente un lavoro part-time': 'Employed',  # Italian for \"I currently have a part-time job\"\n",
        "    'Tiempo parcial (menos de 40 horas a la semana)': 'Employed',  # Spanish for \"Part-time (less than 40 hours per week)\"\n",
        "    'Oui': 'Employed',  # French for \"Yes\"\n",
        "    'I am on a Zero hours contract': 'Employed',\n",
        "    'Occupato full-time': 'Employed',  # Italian for \"Full-time employed\"\n",
        "    ' 不便透露': 'Unemployed',  # Chinese for \"Inconvenient to disclose\"\n",
        "    'Ho attualmente un lavoro a tempo pieno': 'Employed',  # Italian for \"I currently have a full-time job\"\n",
        "    'Tiempo completo (40 horas o más a la semana)': 'Employed',  # Spanish for \"Full-time (40 hours or more per week)\"\n",
        "    'Studying part-time': 'Unemployed'  # English for \"Studying part-time\"\n",
        "}\n",
        "\n",
        "# Map the values to 'Employed' or 'Unemployed' using the mapping dictionary\n",
        "df['EMPLOYMENT_STATUS_PREGEN'] = df['EMPLOYMENT_STATUS_PRE_GEN'].map(mapping_employment_status).fillna('Unemployed')\n"
      ],
      "metadata": {
        "id": "sv2T8HbemJ4L"
      },
      "execution_count": null,
      "outputs": []
    },
    {
      "cell_type": "code",
      "source": [
        "#replace nan with 0 in numerical columns except AGE\n",
        "for column in df.columns:\n",
        "    if df[column].dtype == 'float64' and column != 'AGE_NOW':  # Checking if column is of float type and not 'AGE_NOW'\n",
        "        df[column] = df[column].fillna(0)\n"
      ],
      "metadata": {
        "id": "F3Wbf1ulifNI"
      },
      "execution_count": null,
      "outputs": []
    },
    {
      "cell_type": "code",
      "source": [
        "df.shape\n"
      ],
      "metadata": {
        "colab": {
          "base_uri": "https://localhost:8080/"
        },
        "id": "iWZHpqgIcP2q",
        "outputId": "08b9a0f0-cf54-481e-e9c0-28dd11a8489d"
      },
      "execution_count": null,
      "outputs": [
        {
          "output_type": "execute_result",
          "data": {
            "text/plain": [
              "(126403, 80)"
            ]
          },
          "metadata": {},
          "execution_count": 58
        }
      ]
    },
    {
      "cell_type": "code",
      "source": [
        "df.head()"
      ],
      "metadata": {
        "colab": {
          "base_uri": "https://localhost:8080/",
          "height": 355
        },
        "id": "0cMKveRy7_No",
        "outputId": "3d88e589-d2ef-4f4e-a558-340ed6c38aa1"
      },
      "execution_count": null,
      "outputs": [
        {
          "output_type": "execute_result",
          "data": {
            "text/plain": [
              "  GLOBAL_REGION    COUNTRY    INCOME_TIER          PROGRAM_INDUSTRY  \\\n",
              "0         SAMEA      India  Middle Income  Customer Service & Sales   \n",
              "1        Europe      Italy    High Income  Customer Service & Sales   \n",
              "2          APAC  Australia    High Income                      Tech   \n",
              "3        Europe      Italy    High Income                      Tech   \n",
              "4         SAMEA      Kenya  Middle Income                      Tech   \n",
              "\n",
              "                 PROFESSION PROGRAM_TECH_OR_NOT COHORT_GRADUATION_DATE  \\\n",
              "0    Retail sales associate  Non tech developer             28/03/2023   \n",
              "1    Retail sales associate  Non tech developer             10/03/2023   \n",
              "2      Salesforce Developer      Tech developer             25/03/2022   \n",
              "3      Salesforce Developer      Tech developer             25/03/2022   \n",
              "4  Digital Customer Support  Non tech developer             25/02/2022   \n",
              "\n",
              "   COHORT_GRADUATION_YEAR   COVID_ERA DAYS_SINCE_GRADUATION  ...  \\\n",
              "0                    2023  Post COVID                  380   ...   \n",
              "1                    2023  Post COVID                  398   ...   \n",
              "2                    2022       COVID                  748   ...   \n",
              "3                    2022       COVID                  748   ...   \n",
              "4                    2022       COVID                  776   ...   \n",
              "\n",
              "  LEARNER_SPECIAL_NEEDS HAS_SPECIAL_NEEDS DEMOGRAPHIC_BARRIERS_SCORE  \\\n",
              "0                   NaN               0.0                        4.0   \n",
              "1                   Yes               1.0                        1.0   \n",
              "2                   NaN               0.0                        3.0   \n",
              "3                    No               0.0                        0.0   \n",
              "4                   NaN               0.0                        4.0   \n",
              "\n",
              "   DEMOGRAPHIC_BARRIERS_NULLS EMPLOYMENT_NEED_SCORE EMPLOYMENT_NEED_NULLS  \\\n",
              "0                         2.0                   3.0                   1.0   \n",
              "1                         1.0                   3.0                   0.0   \n",
              "2                         1.0                   4.0                   1.0   \n",
              "3                         0.0                   4.0                   0.0   \n",
              "4                         3.0                   0.0                   5.0   \n",
              "\n",
              "   INDIA_NOT_INDIA  WORK_EXPERIENCE_PREGEN MONTHS_UNEMPLOYED_PREGEN  \\\n",
              "0            India      No work experience       No work experience   \n",
              "1        Not_India      More than one year       No work experience   \n",
              "2        Not_India      More than one year       No work experience   \n",
              "3        Not_India      Less than one year       No work experience   \n",
              "4        Not_India      No work experience      More than 12 months   \n",
              "\n",
              "   EMPLOYMENT_STATUS_PREGEN  \n",
              "0                Unemployed  \n",
              "1                Unemployed  \n",
              "2                  Employed  \n",
              "3                Unemployed  \n",
              "4                Unemployed  \n",
              "\n",
              "[5 rows x 80 columns]"
            ],
            "text/html": [
              "\n",
              "  <div id=\"df-dd8a3680-b44a-45b6-8cff-1c83c865c177\" class=\"colab-df-container\">\n",
              "    <div>\n",
              "<style scoped>\n",
              "    .dataframe tbody tr th:only-of-type {\n",
              "        vertical-align: middle;\n",
              "    }\n",
              "\n",
              "    .dataframe tbody tr th {\n",
              "        vertical-align: top;\n",
              "    }\n",
              "\n",
              "    .dataframe thead th {\n",
              "        text-align: right;\n",
              "    }\n",
              "</style>\n",
              "<table border=\"1\" class=\"dataframe\">\n",
              "  <thead>\n",
              "    <tr style=\"text-align: right;\">\n",
              "      <th></th>\n",
              "      <th>GLOBAL_REGION</th>\n",
              "      <th>COUNTRY</th>\n",
              "      <th>INCOME_TIER</th>\n",
              "      <th>PROGRAM_INDUSTRY</th>\n",
              "      <th>PROFESSION</th>\n",
              "      <th>PROGRAM_TECH_OR_NOT</th>\n",
              "      <th>COHORT_GRADUATION_DATE</th>\n",
              "      <th>COHORT_GRADUATION_YEAR</th>\n",
              "      <th>COVID_ERA</th>\n",
              "      <th>DAYS_SINCE_GRADUATION</th>\n",
              "      <th>...</th>\n",
              "      <th>LEARNER_SPECIAL_NEEDS</th>\n",
              "      <th>HAS_SPECIAL_NEEDS</th>\n",
              "      <th>DEMOGRAPHIC_BARRIERS_SCORE</th>\n",
              "      <th>DEMOGRAPHIC_BARRIERS_NULLS</th>\n",
              "      <th>EMPLOYMENT_NEED_SCORE</th>\n",
              "      <th>EMPLOYMENT_NEED_NULLS</th>\n",
              "      <th>INDIA_NOT_INDIA</th>\n",
              "      <th>WORK_EXPERIENCE_PREGEN</th>\n",
              "      <th>MONTHS_UNEMPLOYED_PREGEN</th>\n",
              "      <th>EMPLOYMENT_STATUS_PREGEN</th>\n",
              "    </tr>\n",
              "  </thead>\n",
              "  <tbody>\n",
              "    <tr>\n",
              "      <th>0</th>\n",
              "      <td>SAMEA</td>\n",
              "      <td>India</td>\n",
              "      <td>Middle Income</td>\n",
              "      <td>Customer Service &amp; Sales</td>\n",
              "      <td>Retail sales associate</td>\n",
              "      <td>Non tech developer</td>\n",
              "      <td>28/03/2023</td>\n",
              "      <td>2023</td>\n",
              "      <td>Post COVID</td>\n",
              "      <td>380</td>\n",
              "      <td>...</td>\n",
              "      <td>NaN</td>\n",
              "      <td>0.0</td>\n",
              "      <td>4.0</td>\n",
              "      <td>2.0</td>\n",
              "      <td>3.0</td>\n",
              "      <td>1.0</td>\n",
              "      <td>India</td>\n",
              "      <td>No work experience</td>\n",
              "      <td>No work experience</td>\n",
              "      <td>Unemployed</td>\n",
              "    </tr>\n",
              "    <tr>\n",
              "      <th>1</th>\n",
              "      <td>Europe</td>\n",
              "      <td>Italy</td>\n",
              "      <td>High Income</td>\n",
              "      <td>Customer Service &amp; Sales</td>\n",
              "      <td>Retail sales associate</td>\n",
              "      <td>Non tech developer</td>\n",
              "      <td>10/03/2023</td>\n",
              "      <td>2023</td>\n",
              "      <td>Post COVID</td>\n",
              "      <td>398</td>\n",
              "      <td>...</td>\n",
              "      <td>Yes</td>\n",
              "      <td>1.0</td>\n",
              "      <td>1.0</td>\n",
              "      <td>1.0</td>\n",
              "      <td>3.0</td>\n",
              "      <td>0.0</td>\n",
              "      <td>Not_India</td>\n",
              "      <td>More than one year</td>\n",
              "      <td>No work experience</td>\n",
              "      <td>Unemployed</td>\n",
              "    </tr>\n",
              "    <tr>\n",
              "      <th>2</th>\n",
              "      <td>APAC</td>\n",
              "      <td>Australia</td>\n",
              "      <td>High Income</td>\n",
              "      <td>Tech</td>\n",
              "      <td>Salesforce Developer</td>\n",
              "      <td>Tech developer</td>\n",
              "      <td>25/03/2022</td>\n",
              "      <td>2022</td>\n",
              "      <td>COVID</td>\n",
              "      <td>748</td>\n",
              "      <td>...</td>\n",
              "      <td>NaN</td>\n",
              "      <td>0.0</td>\n",
              "      <td>3.0</td>\n",
              "      <td>1.0</td>\n",
              "      <td>4.0</td>\n",
              "      <td>1.0</td>\n",
              "      <td>Not_India</td>\n",
              "      <td>More than one year</td>\n",
              "      <td>No work experience</td>\n",
              "      <td>Employed</td>\n",
              "    </tr>\n",
              "    <tr>\n",
              "      <th>3</th>\n",
              "      <td>Europe</td>\n",
              "      <td>Italy</td>\n",
              "      <td>High Income</td>\n",
              "      <td>Tech</td>\n",
              "      <td>Salesforce Developer</td>\n",
              "      <td>Tech developer</td>\n",
              "      <td>25/03/2022</td>\n",
              "      <td>2022</td>\n",
              "      <td>COVID</td>\n",
              "      <td>748</td>\n",
              "      <td>...</td>\n",
              "      <td>No</td>\n",
              "      <td>0.0</td>\n",
              "      <td>0.0</td>\n",
              "      <td>0.0</td>\n",
              "      <td>4.0</td>\n",
              "      <td>0.0</td>\n",
              "      <td>Not_India</td>\n",
              "      <td>Less than one year</td>\n",
              "      <td>No work experience</td>\n",
              "      <td>Unemployed</td>\n",
              "    </tr>\n",
              "    <tr>\n",
              "      <th>4</th>\n",
              "      <td>SAMEA</td>\n",
              "      <td>Kenya</td>\n",
              "      <td>Middle Income</td>\n",
              "      <td>Tech</td>\n",
              "      <td>Digital Customer Support</td>\n",
              "      <td>Non tech developer</td>\n",
              "      <td>25/02/2022</td>\n",
              "      <td>2022</td>\n",
              "      <td>COVID</td>\n",
              "      <td>776</td>\n",
              "      <td>...</td>\n",
              "      <td>NaN</td>\n",
              "      <td>0.0</td>\n",
              "      <td>4.0</td>\n",
              "      <td>3.0</td>\n",
              "      <td>0.0</td>\n",
              "      <td>5.0</td>\n",
              "      <td>Not_India</td>\n",
              "      <td>No work experience</td>\n",
              "      <td>More than 12 months</td>\n",
              "      <td>Unemployed</td>\n",
              "    </tr>\n",
              "  </tbody>\n",
              "</table>\n",
              "<p>5 rows × 80 columns</p>\n",
              "</div>\n",
              "    <div class=\"colab-df-buttons\">\n",
              "\n",
              "  <div class=\"colab-df-container\">\n",
              "    <button class=\"colab-df-convert\" onclick=\"convertToInteractive('df-dd8a3680-b44a-45b6-8cff-1c83c865c177')\"\n",
              "            title=\"Convert this dataframe to an interactive table.\"\n",
              "            style=\"display:none;\">\n",
              "\n",
              "  <svg xmlns=\"http://www.w3.org/2000/svg\" height=\"24px\" viewBox=\"0 -960 960 960\">\n",
              "    <path d=\"M120-120v-720h720v720H120Zm60-500h600v-160H180v160Zm220 220h160v-160H400v160Zm0 220h160v-160H400v160ZM180-400h160v-160H180v160Zm440 0h160v-160H620v160ZM180-180h160v-160H180v160Zm440 0h160v-160H620v160Z\"/>\n",
              "  </svg>\n",
              "    </button>\n",
              "\n",
              "  <style>\n",
              "    .colab-df-container {\n",
              "      display:flex;\n",
              "      gap: 12px;\n",
              "    }\n",
              "\n",
              "    .colab-df-convert {\n",
              "      background-color: #E8F0FE;\n",
              "      border: none;\n",
              "      border-radius: 50%;\n",
              "      cursor: pointer;\n",
              "      display: none;\n",
              "      fill: #1967D2;\n",
              "      height: 32px;\n",
              "      padding: 0 0 0 0;\n",
              "      width: 32px;\n",
              "    }\n",
              "\n",
              "    .colab-df-convert:hover {\n",
              "      background-color: #E2EBFA;\n",
              "      box-shadow: 0px 1px 2px rgba(60, 64, 67, 0.3), 0px 1px 3px 1px rgba(60, 64, 67, 0.15);\n",
              "      fill: #174EA6;\n",
              "    }\n",
              "\n",
              "    .colab-df-buttons div {\n",
              "      margin-bottom: 4px;\n",
              "    }\n",
              "\n",
              "    [theme=dark] .colab-df-convert {\n",
              "      background-color: #3B4455;\n",
              "      fill: #D2E3FC;\n",
              "    }\n",
              "\n",
              "    [theme=dark] .colab-df-convert:hover {\n",
              "      background-color: #434B5C;\n",
              "      box-shadow: 0px 1px 3px 1px rgba(0, 0, 0, 0.15);\n",
              "      filter: drop-shadow(0px 1px 2px rgba(0, 0, 0, 0.3));\n",
              "      fill: #FFFFFF;\n",
              "    }\n",
              "  </style>\n",
              "\n",
              "    <script>\n",
              "      const buttonEl =\n",
              "        document.querySelector('#df-dd8a3680-b44a-45b6-8cff-1c83c865c177 button.colab-df-convert');\n",
              "      buttonEl.style.display =\n",
              "        google.colab.kernel.accessAllowed ? 'block' : 'none';\n",
              "\n",
              "      async function convertToInteractive(key) {\n",
              "        const element = document.querySelector('#df-dd8a3680-b44a-45b6-8cff-1c83c865c177');\n",
              "        const dataTable =\n",
              "          await google.colab.kernel.invokeFunction('convertToInteractive',\n",
              "                                                    [key], {});\n",
              "        if (!dataTable) return;\n",
              "\n",
              "        const docLinkHtml = 'Like what you see? Visit the ' +\n",
              "          '<a target=\"_blank\" href=https://colab.research.google.com/notebooks/data_table.ipynb>data table notebook</a>'\n",
              "          + ' to learn more about interactive tables.';\n",
              "        element.innerHTML = '';\n",
              "        dataTable['output_type'] = 'display_data';\n",
              "        await google.colab.output.renderOutput(dataTable, element);\n",
              "        const docLink = document.createElement('div');\n",
              "        docLink.innerHTML = docLinkHtml;\n",
              "        element.appendChild(docLink);\n",
              "      }\n",
              "    </script>\n",
              "  </div>\n",
              "\n",
              "\n",
              "<div id=\"df-f6c8741c-d0c1-495b-83dc-b3258d364515\">\n",
              "  <button class=\"colab-df-quickchart\" onclick=\"quickchart('df-f6c8741c-d0c1-495b-83dc-b3258d364515')\"\n",
              "            title=\"Suggest charts\"\n",
              "            style=\"display:none;\">\n",
              "\n",
              "<svg xmlns=\"http://www.w3.org/2000/svg\" height=\"24px\"viewBox=\"0 0 24 24\"\n",
              "     width=\"24px\">\n",
              "    <g>\n",
              "        <path d=\"M19 3H5c-1.1 0-2 .9-2 2v14c0 1.1.9 2 2 2h14c1.1 0 2-.9 2-2V5c0-1.1-.9-2-2-2zM9 17H7v-7h2v7zm4 0h-2V7h2v10zm4 0h-2v-4h2v4z\"/>\n",
              "    </g>\n",
              "</svg>\n",
              "  </button>\n",
              "\n",
              "<style>\n",
              "  .colab-df-quickchart {\n",
              "      --bg-color: #E8F0FE;\n",
              "      --fill-color: #1967D2;\n",
              "      --hover-bg-color: #E2EBFA;\n",
              "      --hover-fill-color: #174EA6;\n",
              "      --disabled-fill-color: #AAA;\n",
              "      --disabled-bg-color: #DDD;\n",
              "  }\n",
              "\n",
              "  [theme=dark] .colab-df-quickchart {\n",
              "      --bg-color: #3B4455;\n",
              "      --fill-color: #D2E3FC;\n",
              "      --hover-bg-color: #434B5C;\n",
              "      --hover-fill-color: #FFFFFF;\n",
              "      --disabled-bg-color: #3B4455;\n",
              "      --disabled-fill-color: #666;\n",
              "  }\n",
              "\n",
              "  .colab-df-quickchart {\n",
              "    background-color: var(--bg-color);\n",
              "    border: none;\n",
              "    border-radius: 50%;\n",
              "    cursor: pointer;\n",
              "    display: none;\n",
              "    fill: var(--fill-color);\n",
              "    height: 32px;\n",
              "    padding: 0;\n",
              "    width: 32px;\n",
              "  }\n",
              "\n",
              "  .colab-df-quickchart:hover {\n",
              "    background-color: var(--hover-bg-color);\n",
              "    box-shadow: 0 1px 2px rgba(60, 64, 67, 0.3), 0 1px 3px 1px rgba(60, 64, 67, 0.15);\n",
              "    fill: var(--button-hover-fill-color);\n",
              "  }\n",
              "\n",
              "  .colab-df-quickchart-complete:disabled,\n",
              "  .colab-df-quickchart-complete:disabled:hover {\n",
              "    background-color: var(--disabled-bg-color);\n",
              "    fill: var(--disabled-fill-color);\n",
              "    box-shadow: none;\n",
              "  }\n",
              "\n",
              "  .colab-df-spinner {\n",
              "    border: 2px solid var(--fill-color);\n",
              "    border-color: transparent;\n",
              "    border-bottom-color: var(--fill-color);\n",
              "    animation:\n",
              "      spin 1s steps(1) infinite;\n",
              "  }\n",
              "\n",
              "  @keyframes spin {\n",
              "    0% {\n",
              "      border-color: transparent;\n",
              "      border-bottom-color: var(--fill-color);\n",
              "      border-left-color: var(--fill-color);\n",
              "    }\n",
              "    20% {\n",
              "      border-color: transparent;\n",
              "      border-left-color: var(--fill-color);\n",
              "      border-top-color: var(--fill-color);\n",
              "    }\n",
              "    30% {\n",
              "      border-color: transparent;\n",
              "      border-left-color: var(--fill-color);\n",
              "      border-top-color: var(--fill-color);\n",
              "      border-right-color: var(--fill-color);\n",
              "    }\n",
              "    40% {\n",
              "      border-color: transparent;\n",
              "      border-right-color: var(--fill-color);\n",
              "      border-top-color: var(--fill-color);\n",
              "    }\n",
              "    60% {\n",
              "      border-color: transparent;\n",
              "      border-right-color: var(--fill-color);\n",
              "    }\n",
              "    80% {\n",
              "      border-color: transparent;\n",
              "      border-right-color: var(--fill-color);\n",
              "      border-bottom-color: var(--fill-color);\n",
              "    }\n",
              "    90% {\n",
              "      border-color: transparent;\n",
              "      border-bottom-color: var(--fill-color);\n",
              "    }\n",
              "  }\n",
              "</style>\n",
              "\n",
              "  <script>\n",
              "    async function quickchart(key) {\n",
              "      const quickchartButtonEl =\n",
              "        document.querySelector('#' + key + ' button');\n",
              "      quickchartButtonEl.disabled = true;  // To prevent multiple clicks.\n",
              "      quickchartButtonEl.classList.add('colab-df-spinner');\n",
              "      try {\n",
              "        const charts = await google.colab.kernel.invokeFunction(\n",
              "            'suggestCharts', [key], {});\n",
              "      } catch (error) {\n",
              "        console.error('Error during call to suggestCharts:', error);\n",
              "      }\n",
              "      quickchartButtonEl.classList.remove('colab-df-spinner');\n",
              "      quickchartButtonEl.classList.add('colab-df-quickchart-complete');\n",
              "    }\n",
              "    (() => {\n",
              "      let quickchartButtonEl =\n",
              "        document.querySelector('#df-f6c8741c-d0c1-495b-83dc-b3258d364515 button');\n",
              "      quickchartButtonEl.style.display =\n",
              "        google.colab.kernel.accessAllowed ? 'block' : 'none';\n",
              "    })();\n",
              "  </script>\n",
              "</div>\n",
              "    </div>\n",
              "  </div>\n"
            ],
            "application/vnd.google.colaboratory.intrinsic+json": {
              "type": "dataframe",
              "variable_name": "df"
            }
          },
          "metadata": {},
          "execution_count": 59
        }
      ]
    },
    {
      "cell_type": "code",
      "source": [
        "#Check the distribution of the composite scores\n",
        "import matplotlib.pyplot as plt\n",
        "\n",
        "plt.figure(figsize=(12, 6))\n",
        "plt.subplot(1, 2, 1)\n",
        "df['DEMOGRAPHIC_BARRIERS_SCORE'].hist(bins=20)\n",
        "plt.title('Distribution of Demographic Barriers Score')\n",
        "plt.xlabel('Score')\n",
        "plt.ylabel('Frequency')\n",
        "\n",
        "plt.subplot(1, 2, 2)\n",
        "df['EMPLOYMENT_NEED_SCORE'].hist(bins=20)\n",
        "plt.title('Distribution of Employment Need Score')\n",
        "plt.xlabel('Score')\n",
        "plt.ylabel('Frequency')\n",
        "\n",
        "plt.tight_layout()\n",
        "plt.show()\n",
        "\n",
        "# Show summary statistics\n",
        "print(df[['DEMOGRAPHIC_BARRIERS_SCORE', 'EMPLOYMENT_NEED_SCORE']].describe())\n"
      ],
      "metadata": {
        "colab": {
          "base_uri": "https://localhost:8080/",
          "height": 760
        },
        "id": "51Rw09t-OjDv",
        "outputId": "4fe38093-6820-4b2b-cedd-711334dc4402"
      },
      "execution_count": null,
      "outputs": [
        {
          "output_type": "display_data",
          "data": {
            "text/plain": [
              "<Figure size 1200x600 with 2 Axes>"
            ],
            "image/png": "[encoded data removed]"
          },
          "metadata": {}
        },
        {
          "output_type": "stream",
          "name": "stdout",
          "text": [
            "       DEMOGRAPHIC_BARRIERS_SCORE  EMPLOYMENT_NEED_SCORE\n",
            "count               126403.000000          126403.000000\n",
            "mean                     1.524149               1.218120\n",
            "std                      1.461339               1.404111\n",
            "min                      0.000000               0.000000\n",
            "25%                      0.000000               0.000000\n",
            "50%                      1.000000               0.000000\n",
            "75%                      3.000000               3.000000\n",
            "max                      7.000000               5.000000\n"
          ]
        }
      ]
    },
    {
      "cell_type": "code",
      "source": [
        "#check the correlation to see if one can determine the other\n",
        "\n",
        "correlation = df[['DEMOGRAPHIC_BARRIERS_SCORE', 'EMPLOYMENT_NEED_SCORE']].corr(method='spearman')\n",
        "print(correlation)\n",
        "\n",
        "#They are moderately correlated so we can apply either a negative binomial regression or poissson"
      ],
      "metadata": {
        "colab": {
          "base_uri": "https://localhost:8080/"
        },
        "id": "1fMt62qp2zM0",
        "outputId": "57558e38-b5b0-44c0-80f6-ed91d9974ecf"
      },
      "execution_count": null,
      "outputs": [
        {
          "output_type": "stream",
          "name": "stdout",
          "text": [
            "                            DEMOGRAPHIC_BARRIERS_SCORE  EMPLOYMENT_NEED_SCORE\n",
            "DEMOGRAPHIC_BARRIERS_SCORE                    1.000000               0.593817\n",
            "EMPLOYMENT_NEED_SCORE                         0.593817               1.000000\n"
          ]
        }
      ]
    },
    {
      "cell_type": "code",
      "source": [
        "#check the linear relationship:\n",
        "variable_pairs = [('DEMOGRAPHIC_BARRIERS_SCORE', 'EMPLOYMENT_NEED_SCORE')]\n",
        "for x_var, y_var in variable_pairs:\n",
        "    plt.figure(figsize=(8, 5))\n",
        "    plt.scatter(df[x_var], df[y_var], alpha=0.5)\n",
        "    plt.title(f'Scatter Plot of {x_var} vs {y_var}')\n",
        "    plt.xlabel(x_var)\n",
        "    plt.ylabel(y_var)\n",
        "    plt.show()\n",
        "\n",
        "#Relationship is not Linear"
      ],
      "metadata": {
        "colab": {
          "base_uri": "https://localhost:8080/",
          "height": 487
        },
        "id": "Bj414zW0_Yry",
        "outputId": "0dac292a-dd8d-4835-efa7-f253e0fa2192"
      },
      "execution_count": null,
      "outputs": [
        {
          "output_type": "display_data",
          "data": {
            "text/plain": [
              "<Figure size 800x500 with 1 Axes>"
            ],
            "image/png": "[encoded data removed]"
          },
          "metadata": {}
        }
      ]
    },
    {
      "cell_type": "code",
      "source": [
        "from sklearn.impute import KNNImputer\n",
        "\n",
        "# Initialize  Imputer\n",
        "imputer = KNNImputer(n_neighbors=5)\n",
        "\n",
        "# Isolate columns to impute along with other numeric columns for KNN to work properly\n",
        "columns_to_impute = ['DEMOGRAPHIC_BARRIERS_SCORE', 'EMPLOYMENT_NEED_SCORE']\n",
        "numeric_data = df[columns_to_impute]\n",
        "\n",
        "additional_columns = df.select_dtypes(include=[np.number]).drop(columns_to_impute, errors='ignore').columns.tolist()\n",
        "imputation_data = df[columns_to_impute] #can include other colums here\n",
        "\n",
        "# Fit data\n",
        "imputer.fit(imputation_data)\n",
        "\n",
        "# Transform the data and replace the imputed columns in df\n",
        "df[columns_to_impute] = imputer.transform(imputation_data)[..., :len(columns_to_impute)]\n"
      ],
      "metadata": {
        "id": "n23FZV-tS1dm"
      },
      "execution_count": null,
      "outputs": []
    },
    {
      "cell_type": "code",
      "source": [
        "has_nulls = df['DEMOGRAPHIC_BARRIERS_SCORE'].isnull().any()\n",
        "print(f\"Does 'column_name' have null values? {has_nulls}\")"
      ],
      "metadata": {
        "colab": {
          "base_uri": "https://localhost:8080/"
        },
        "id": "PsRg4_uFhCdO",
        "outputId": "c9380687-5425-4ccf-8c74-9f6e7ab79ff8"
      },
      "execution_count": null,
      "outputs": [
        {
          "output_type": "stream",
          "name": "stdout",
          "text": [
            "Does 'column_name' have null values? False\n"
          ]
        }
      ]
    },
    {
      "cell_type": "code",
      "source": [
        "# Convert only the 'Demographic_barriers_score' and 'Employment_need_score' columns to numeric types\n",
        "#df['DEMOGRAPHIC_BARRIERS_SCORE'] = pd.to_numeric(df['DEMOGRAPHIC_BARRIERS_SCORE'], errors='coerce')\n",
        "#df['EMPLOYMENT_NEED_SCORE'] = pd.to_numeric(df['EMPLOYMENT_NEED_SCORE'], errors='coerce')\n"
      ],
      "metadata": {
        "id": "sc1FxFNu5oCg"
      },
      "execution_count": null,
      "outputs": []
    },
    {
      "cell_type": "code",
      "source": [
        "#df[['DEMOGRAPHIC_BARRIERS_SCORE', 'EMPLOYMENT_NEED_SCORE']].dtypes"
      ],
      "metadata": {
        "colab": {
          "base_uri": "https://localhost:8080/"
        },
        "id": "jbx6CMGhBUcI",
        "outputId": "4e6fc601-b453-41de-9c4b-267b2b2bad7e"
      },
      "execution_count": null,
      "outputs": [
        {
          "output_type": "execute_result",
          "data": {
            "text/plain": [
              "DEMOGRAPHIC_BARRIERS_SCORE    float64\n",
              "EMPLOYMENT_NEED_SCORE         float64\n",
              "dtype: object"
            ]
          },
          "metadata": {},
          "execution_count": 88
        }
      ]
    },
    {
      "cell_type": "code",
      "source": [
        "attainment90_df = df[['GLOBAL_REGION', 'INCOME_TIER', 'COVID_ERA','PROGRAM_TECH_OR_NOT',\n",
        "                    'IS_NEET_PRE_GEN', 'DEMOGRAPHIC_BARRIERS_SCORE', 'EMPLOYMENT_NEED_SCORE','INDIA_NOT_INDIA',\n",
        "                     'ATTAINMENT_90D']]"
      ],
      "metadata": {
        "id": "Qe3SjdCq-GDR"
      },
      "execution_count": null,
      "outputs": []
    },
    {
      "cell_type": "code",
      "source": [
        "attainment180_df = df[['GLOBAL_REGION', 'INCOME_TIER', 'COVID_ERA','PROGRAM_TECH_OR_NOT',\n",
        "                    'IS_NEET_PRE_GEN', 'DEMOGRAPHIC_BARRIERS_SCORE', 'EMPLOYMENT_NEED_SCORE','INDIA_NOT_INDIA',\n",
        "                    'ATTAINMENT_180D']]"
      ],
      "metadata": {
        "id": "P1dvDZfM-Vyk"
      },
      "execution_count": null,
      "outputs": []
    },
    {
      "cell_type": "code",
      "source": [
        "df.shape\n"
      ],
      "metadata": {
        "colab": {
          "base_uri": "https://localhost:8080/"
        },
        "id": "Q61QEzzdcSHb",
        "outputId": "3d891262-58a7-404f-916e-ac7a091db5bb"
      },
      "execution_count": null,
      "outputs": [
        {
          "output_type": "execute_result",
          "data": {
            "text/plain": [
              "(126403, 80)"
            ]
          },
          "metadata": {},
          "execution_count": 67
        }
      ]
    },
    {
      "cell_type": "markdown",
      "source": [
        "## **Create and Run Regression Model**"
      ],
      "metadata": {
        "id": "TgNX-vclrLk7"
      }
    },
    {
      "cell_type": "code",
      "source": [
        "from sklearn.model_selection import train_test_split\n",
        "from sklearn.linear_model import LogisticRegression\n",
        "from sklearn.metrics import accuracy_score, classification_report, confusion_matrix\n",
        "from sklearn.preprocessing import StandardScaler, LabelEncoder"
      ],
      "metadata": {
        "id": "oZozZTrIiLQN"
      },
      "execution_count": null,
      "outputs": []
    },
    {
      "cell_type": "code",
      "source": [
        "# Drop rows with missing values in selected columns\n",
        "attainment90_df  = attainment90_df.dropna()\n",
        "\n",
        "# Encode categorical variables\n",
        "le = LabelEncoder()\n",
        "attainment90_df ['ATTAINMENT_90D'] = le.fit_transform(attainment90_df['ATTAINMENT_90D'])\n",
        "\n",
        "# Define features (X) and target variable (y)\n",
        "X = attainment90_df .drop(['ATTAINMENT_90D'], axis=1)  # Features\n",
        "y = attainment90_df ['ATTAINMENT_90D']  # Target variable\n",
        "\n",
        "# Identify categorical columns\n",
        "categorical_columns = X.select_dtypes(include=['object']).columns\n",
        "\n",
        "# Apply one-hot encoding to categorical columns\n",
        "X = pd.get_dummies(X, columns=categorical_columns)\n",
        "\n",
        "# Split the data into training and testing sets\n",
        "X_train, X_test, y_train, y_test = train_test_split(X, y, test_size=0.2, random_state=42)\n",
        "\n",
        "# Standardize numeric features\n",
        "scaler = StandardScaler()\n",
        "X_train_scaled = scaler.fit_transform(X_train)\n",
        "X_test_scaled = scaler.transform(X_test)\n",
        "\n",
        "# Initialize the logistic regression model\n",
        "logreg_model = LogisticRegression()\n",
        "\n",
        "# Fit the model on the training data\n",
        "logreg_model.fit(X_train_scaled, y_train)\n",
        "\n",
        "# Make predictions on the test data\n",
        "y_pred = logreg_model.predict(X_test_scaled)\n",
        "\n",
        "# Evaluate the model\n",
        "accuracy = accuracy_score(y_test, y_pred)\n",
        "conf_matrix = confusion_matrix(y_test, y_pred)\n",
        "classification_rep = classification_report(y_test, y_pred)\n",
        "\n",
        "print(\"Accuracy:\", accuracy)\n",
        "print(\"Confusion Matrix:\\n\", conf_matrix)\n",
        "print(\"Classification Report:\\n\", classification_rep)\n",
        "\n",
        "# Print feature coefficients\n",
        "feature_names = X.columns\n",
        "coefficients = logreg_model.coef_[0]\n",
        "\n",
        "for feature, coef in zip(feature_names, coefficients):\n",
        "    print(f\"{feature}: {coef}\")\n"
      ],
      "metadata": {
        "colab": {
          "base_uri": "https://localhost:8080/"
        },
        "id": "HbFWhdlPAsew",
        "outputId": "feca7f1d-ce0b-462b-e1e7-dafdc667e672"
      },
      "execution_count": null,
      "outputs": [
        {
          "output_type": "stream",
          "name": "stderr",
          "text": [
            "<ipython-input-70-d3fab6424e2c>:6: SettingWithCopyWarning: \n",
            "A value is trying to be set on a copy of a slice from a DataFrame.\n",
            "Try using .loc[row_indexer,col_indexer] = value instead\n",
            "\n",
            "See the caveats in the documentation: https://pandas.pydata.org/pandas-docs/stable/user_guide/indexing.html#returning-a-view-versus-a-copy\n",
            "  attainment90_df ['ATTAINMENT_90D'] = le.fit_transform(attainment90_df['ATTAINMENT_90D'])\n"
          ]
        },
        {
          "output_type": "stream",
          "name": "stdout",
          "text": [
            "Accuracy: 0.6655056402137344\n",
            "Confusion Matrix:\n",
            " [[8545 4167]\n",
            " [4284 8269]]\n",
            "Classification Report:\n",
            "               precision    recall  f1-score   support\n",
            "\n",
            "           0       0.67      0.67      0.67     12712\n",
            "           1       0.66      0.66      0.66     12553\n",
            "\n",
            "    accuracy                           0.67     25265\n",
            "   macro avg       0.67      0.67      0.67     25265\n",
            "weighted avg       0.67      0.67      0.67     25265\n",
            "\n",
            "IS_NEET_PRE_GEN: 0.03884650954944642\n",
            "DEMOGRAPHIC_BARRIERS_SCORE: -0.007401268773657421\n",
            "EMPLOYMENT_NEED_SCORE: 0.11884896726278268\n",
            "GLOBAL_REGION_APAC: 0.04414488359125438\n",
            "GLOBAL_REGION_Americas: -0.20263521583528257\n",
            "GLOBAL_REGION_Europe: 0.11355627914575601\n",
            "GLOBAL_REGION_SAMEA: 0.06272781990410953\n",
            "INCOME_TIER_High Income: -0.1038763024774379\n",
            "INCOME_TIER_Middle Income: 0.10387630247743802\n",
            "COVID_ERA_COVID: 0.19324510828334832\n",
            "COVID_ERA_Post COVID: -0.48687903057370546\n",
            "COVID_ERA_Pre COVID: 0.3072424359162399\n",
            "PROGRAM_TECH_OR_NOT_Non tech developer: 0.1334142788568759\n",
            "PROGRAM_TECH_OR_NOT_Tech developer: -0.13341427885687596\n",
            "INDIA_NOT_INDIA_India: -0.04830180324425054\n",
            "INDIA_NOT_INDIA_Not_India: 0.04830180324425066\n"
          ]
        }
      ]
    },
    {
      "cell_type": "code",
      "source": [
        "import statsmodels.api as sm\n",
        "\n",
        "# Add a constant to the model (needed for statsmodels)\n",
        "X_train_scaled_sm = sm.add_constant(X_train_scaled)\n",
        "\n",
        "# Fit the logistic regression model using statsmodels\n",
        "logit_model = sm.Logit(y_train, X_train_scaled_sm)\n",
        "result = logit_model.fit()\n",
        "\n",
        "# Print the summary of the regression\n",
        "print(result.summary())\n"
      ],
      "metadata": {
        "colab": {
          "base_uri": "https://localhost:8080/"
        },
        "id": "5DGRWpBZ77QU",
        "outputId": "818ab79c-8765-4a66-f3d9-2d69701a8306"
      },
      "execution_count": null,
      "outputs": [
        {
          "output_type": "stream",
          "name": "stdout",
          "text": [
            "Warning: Maximum number of iterations has been exceeded.\n",
            "         Current function value: 0.619636\n",
            "         Iterations: 35\n"
          ]
        },
        {
          "output_type": "stream",
          "name": "stderr",
          "text": [
            "/usr/local/lib/python3.10/dist-packages/statsmodels/base/model.py:607: ConvergenceWarning: Maximum Likelihood optimization failed to converge. Check mle_retvals\n",
            "  warnings.warn(\"Maximum Likelihood optimization failed to \"\n"
          ]
        },
        {
          "output_type": "stream",
          "name": "stdout",
          "text": [
            "                           Logit Regression Results                           \n",
            "==============================================================================\n",
            "Dep. Variable:         ATTAINMENT_90D   No. Observations:               101057\n",
            "Model:                          Logit   Df Residuals:                   101045\n",
            "Method:                           MLE   Df Model:                           11\n",
            "Date:                Wed, 24 Apr 2024   Pseudo R-squ.:                  0.1058\n",
            "Time:                        09:02:21   Log-Likelihood:                -62619.\n",
            "converged:                      False   LL-Null:                       -70029.\n",
            "Covariance Type:            nonrobust   LLR p-value:                     0.000\n",
            "==============================================================================\n",
            "                 coef    std err          z      P>|z|      [0.025      0.975]\n",
            "------------------------------------------------------------------------------\n",
            "const         -0.0565      0.007     -8.300      0.000      -0.070      -0.043\n",
            "x1             0.0388      0.009      4.558      0.000       0.022       0.055\n",
            "x2            -0.0073      0.010     -0.735      0.463      -0.027       0.012\n",
            "x3             0.1188      0.011     11.166      0.000       0.098       0.140\n",
            "x4             0.0442        nan        nan        nan         nan         nan\n",
            "x5            -0.2027        nan        nan        nan         nan         nan\n",
            "x6             0.1136        nan        nan        nan         nan         nan\n",
            "x7             0.0627        nan        nan        nan         nan         nan\n",
            "x8            -0.1039        nan        nan        nan         nan         nan\n",
            "x9             0.1039        nan        nan        nan         nan         nan\n",
            "x10            0.1933   4.91e+05   3.94e-07      1.000   -9.63e+05    9.63e+05\n",
            "x11           -0.4869      0.009    -56.939      0.000      -0.504      -0.470\n",
            "x12            0.3073          0        inf      0.000       0.307       0.307\n",
            "x13            0.1334      0.009     14.436      0.000       0.115       0.152\n",
            "x14           -0.1334         -0        inf      0.000      -0.133      -0.133\n",
            "x15           -0.0483        nan        nan        nan         nan         nan\n",
            "x16            0.0483        nan        nan        nan         nan         nan\n",
            "==============================================================================\n"
          ]
        }
      ]
    },
    {
      "cell_type": "code",
      "source": [
        "# Drop rows with missing values in selected columns\n",
        "attainment180_df  = attainment180_df.dropna()\n",
        "\n",
        "# Encode categorical variables\n",
        "le = LabelEncoder()\n",
        "attainment180_df ['ATTAINMENT_180D'] = le.fit_transform(attainment180_df['ATTAINMENT_180D'])\n",
        "\n",
        "# Define features (X) and target variable (y)\n",
        "X = attainment180_df .drop(['ATTAINMENT_180D'], axis=1)  # Features\n",
        "y = attainment180_df ['ATTAINMENT_180D']  # Target variable\n",
        "\n",
        "# Identify categorical columns\n",
        "categorical_columns = X.select_dtypes(include=['object']).columns\n",
        "\n",
        "# Apply one-hot encoding to categorical columns\n",
        "X = pd.get_dummies(X, columns=categorical_columns)\n",
        "\n",
        "# Split the data into training and testing sets\n",
        "X_train, X_test, y_train, y_test = train_test_split(X, y, test_size=0.2, random_state=42)\n",
        "\n",
        "# Standardize numeric features\n",
        "scaler = StandardScaler()\n",
        "X_train_scaled = scaler.fit_transform(X_train)\n",
        "X_test_scaled = scaler.transform(X_test)\n",
        "\n",
        "# Initialize the logistic regression model\n",
        "logreg_model = LogisticRegression()\n",
        "\n",
        "# Fit the model on the training data\n",
        "logreg_model.fit(X_train_scaled, y_train)\n",
        "\n",
        "# Make predictions on the test data\n",
        "y_pred = logreg_model.predict(X_test_scaled)\n",
        "\n",
        "# Evaluate the model\n",
        "accuracy = accuracy_score(y_test, y_pred)\n",
        "conf_matrix = confusion_matrix(y_test, y_pred)\n",
        "classification_rep = classification_report(y_test, y_pred)\n",
        "\n",
        "print(\"Accuracy:\", accuracy)\n",
        "print(\"Confusion Matrix:\\n\", conf_matrix)\n",
        "print(\"Classification Report:\\n\", classification_rep)\n",
        "\n",
        "# Print feature coefficients\n",
        "feature_names = X.columns\n",
        "coefficients = logreg_model.coef_[0]\n",
        "\n",
        "for feature, coef in zip(feature_names, coefficients):\n",
        "    print(f\"{feature}: {coef}\")\n"
      ],
      "metadata": {
        "id": "Z7tS7-z044yi",
        "colab": {
          "base_uri": "https://localhost:8080/"
        },
        "outputId": "9b8f1913-9794-4753-d1b0-fd69a5418da1"
      },
      "execution_count": null,
      "outputs": [
        {
          "output_type": "stream",
          "name": "stderr",
          "text": [
            "<ipython-input-73-567a5d13aac4>:6: SettingWithCopyWarning: \n",
            "A value is trying to be set on a copy of a slice from a DataFrame.\n",
            "Try using .loc[row_indexer,col_indexer] = value instead\n",
            "\n",
            "See the caveats in the documentation: https://pandas.pydata.org/pandas-docs/stable/user_guide/indexing.html#returning-a-view-versus-a-copy\n",
            "  attainment180_df ['ATTAINMENT_180D'] = le.fit_transform(attainment180_df['ATTAINMENT_180D'])\n"
          ]
        },
        {
          "output_type": "stream",
          "name": "stdout",
          "text": [
            "Accuracy: 0.7074609143083317\n",
            "Confusion Matrix:\n",
            " [[8452 4181]\n",
            " [3210 9422]]\n",
            "Classification Report:\n",
            "               precision    recall  f1-score   support\n",
            "\n",
            "           0       0.72      0.67      0.70     12633\n",
            "           1       0.69      0.75      0.72     12632\n",
            "\n",
            "    accuracy                           0.71     25265\n",
            "   macro avg       0.71      0.71      0.71     25265\n",
            "weighted avg       0.71      0.71      0.71     25265\n",
            "\n",
            "IS_NEET_PRE_GEN: 0.04891787573332696\n",
            "DEMOGRAPHIC_BARRIERS_SCORE: -0.041188207284970406\n",
            "EMPLOYMENT_NEED_SCORE: 0.047015559465290034\n",
            "GLOBAL_REGION_APAC: 0.04819855434832456\n",
            "GLOBAL_REGION_Americas: -0.21497315276516943\n",
            "GLOBAL_REGION_Europe: 0.17834304574776313\n",
            "GLOBAL_REGION_SAMEA: 0.024337519239885468\n",
            "INCOME_TIER_High Income: -0.12939140552658032\n",
            "INCOME_TIER_Middle Income: 0.12939140552658032\n",
            "COVID_ERA_COVID: 0.3025587690750667\n",
            "COVID_ERA_Post COVID: -0.6195683844761628\n",
            "COVID_ERA_Pre COVID: 0.3334918995538781\n",
            "PROGRAM_TECH_OR_NOT_Non tech developer: 0.07857839419610499\n",
            "PROGRAM_TECH_OR_NOT_Tech developer: -0.0785783941961049\n",
            "INDIA_NOT_INDIA_India: -0.05955274015225804\n",
            "INDIA_NOT_INDIA_Not_India: 0.05955274015225793\n"
          ]
        }
      ]
    },
    {
      "cell_type": "code",
      "source": [
        "import statsmodels.api as sm\n",
        "\n",
        "# Add a constant to the model (needed for statsmodels)\n",
        "X_train_scaled_sm = sm.add_constant(X_train_scaled)\n",
        "\n",
        "# Fit the logistic regression model using statsmodels\n",
        "logit_model = sm.Logit(y_train, X_train_scaled_sm)\n",
        "result = logit_model.fit()\n",
        "\n",
        "# Print the summary of the regression\n",
        "print(result.summary())\n"
      ],
      "metadata": {
        "id": "gr2wWS7b7-H1",
        "colab": {
          "base_uri": "https://localhost:8080/"
        },
        "outputId": "a739a53d-c8ab-4f1d-d00d-b8a2f75b8be1"
      },
      "execution_count": null,
      "outputs": [
        {
          "output_type": "stream",
          "name": "stdout",
          "text": [
            "Warning: Maximum number of iterations has been exceeded.\n",
            "         Current function value: 0.589127\n",
            "         Iterations: 35\n"
          ]
        },
        {
          "output_type": "stream",
          "name": "stderr",
          "text": [
            "/usr/local/lib/python3.10/dist-packages/statsmodels/base/model.py:607: ConvergenceWarning: Maximum Likelihood optimization failed to converge. Check mle_retvals\n",
            "  warnings.warn(\"Maximum Likelihood optimization failed to \"\n"
          ]
        },
        {
          "output_type": "stream",
          "name": "stdout",
          "text": [
            "                           Logit Regression Results                           \n",
            "==============================================================================\n",
            "Dep. Variable:        ATTAINMENT_180D   No. Observations:               101057\n",
            "Model:                          Logit   Df Residuals:                   101045\n",
            "Method:                           MLE   Df Model:                           11\n",
            "Date:                Wed, 24 Apr 2024   Pseudo R-squ.:                  0.1500\n",
            "Time:                        09:02:44   Log-Likelihood:                -59535.\n",
            "converged:                      False   LL-Null:                       -70044.\n",
            "Covariance Type:            nonrobust   LLR p-value:                     0.000\n",
            "==============================================================================\n",
            "                 coef    std err          z      P>|z|      [0.025      0.975]\n",
            "------------------------------------------------------------------------------\n",
            "const         -0.0467      0.007     -6.608      0.000      -0.061      -0.033\n",
            "x1             0.0488      0.009      5.513      0.000       0.031       0.066\n",
            "x2            -0.0411      0.010     -3.965      0.000      -0.061      -0.021\n",
            "x3             0.0470      0.011      4.272      0.000       0.025       0.069\n",
            "x4             0.0482        nan        nan        nan         nan         nan\n",
            "x5            -0.2150        nan        nan        nan         nan         nan\n",
            "x6             0.1784        nan        nan        nan         nan         nan\n",
            "x7             0.0243        nan        nan        nan         nan         nan\n",
            "x8            -0.1294    6.4e+05  -2.02e-07      1.000   -1.25e+06    1.25e+06\n",
            "x9             0.1294   6.34e+05   2.04e-07      1.000   -1.24e+06    1.24e+06\n",
            "x10            0.3026   1.47e+05   2.05e-06      1.000   -2.89e+05    2.89e+05\n",
            "x11           -0.6196    1.5e+05  -4.12e-06      1.000   -2.95e+05    2.95e+05\n",
            "x12            0.3335   1.46e+05   2.29e-06      1.000   -2.85e+05    2.85e+05\n",
            "x13            0.0786        nan        nan        nan         nan         nan\n",
            "x14           -0.0786        nan        nan        nan         nan         nan\n",
            "x15           -0.0596   5.97e+05  -9.98e-08      1.000   -1.17e+06    1.17e+06\n",
            "x16            0.0596   5.97e+05   9.98e-08      1.000   -1.17e+06    1.17e+06\n",
            "==============================================================================\n"
          ]
        }
      ]
    }
  ]
}